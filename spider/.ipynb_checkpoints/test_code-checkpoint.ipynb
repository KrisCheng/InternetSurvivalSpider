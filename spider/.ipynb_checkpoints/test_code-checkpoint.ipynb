{
 "cells": [
  {
   "cell_type": "code",
   "execution_count": 3,
   "metadata": {},
   "outputs": [
    {
     "name": "stdout",
     "output_type": "stream",
     "text": [
      "['豆瓣</p>\\n    <p class=\"qrcode\">扫码直接下载</p>\\n    <div class=\"download\">\\n      <a href=\"https://www.douban.com/doubanapp/redirect?channel=top-nav&direct_dl=1&download=iOS\">iPhone</a>\\n      <span>·', '\\n                {{if year}}\\n                    <span>{{= year}}', '\\n                {{/if}}\\n                {{if address}}\\n                    <br /><span>{{= address}}', '肖申克的救赎', '&nbsp;/&nbsp;The Shawshank Redemption', '霸王别姬', '这个杀手不太冷', '&nbsp;/&nbsp;Léon', '阿甘正传', '&nbsp;/&nbsp;Forrest Gump', '美丽人生', '&nbsp;/&nbsp;La vita è bella', '泰坦尼克号', '&nbsp;/&nbsp;Titanic', '千与千寻', '&nbsp;/&nbsp;千と千尋の神隠し', '辛德勒的名单', '&nbsp;/&nbsp;Schindler&#39;s List', '盗梦空间', '&nbsp;/&nbsp;Inception', '机器人总动员', '&nbsp;/&nbsp;WALL·E', '忠犬八公的故事', '&nbsp;/&nbsp;Hachi: A Dog&#39;s Tale', '三傻大闹宝莱坞', '&nbsp;/&nbsp;3 Idiots', '海上钢琴师', '&nbsp;/&nbsp;La leggenda del pianista sull&#39;oceano', '放牛班的春天', '&nbsp;/&nbsp;Les choristes', '大话西游之大圣娶亲', '&nbsp;/&nbsp;西遊記大結局之仙履奇緣', '楚门的世界', '&nbsp;/&nbsp;The Truman Show', '星际穿越', '&nbsp;/&nbsp;Interstellar', '教父', '&nbsp;/&nbsp;The Godfather', '龙猫', '&nbsp;/&nbsp;となりのトトロ', '熔炉', '&nbsp;/&nbsp;도가니', '无间道', '&nbsp;/&nbsp;無間道', '当幸福来敲门', '&nbsp;/&nbsp;The Pursuit of Happyness', '触不可及', '&nbsp;/&nbsp;Intouchables', '怦然心动', '&nbsp;/&nbsp;Flipped', '疯狂动物城', '&nbsp;/&nbsp;Zootopia', '豆瓣', '让好电影来找你']\n"
     ]
    }
   ],
   "source": [
    "# 爬取豆瓣电影榜单\n",
    "\n",
    "import requests\n",
    "import re\n",
    "\n",
    "def get_one_page(url):\n",
    "    headers = {\n",
    "        'User-Agent' : 'Mozilla/5.0 (Macintosh; Intel Mac OS X 10_14_0) AppleWebKit/537.36 (KHTML, like Gecko) Chrome/71.0.3578.98 Safari/537.36'\n",
    "    }\n",
    "    response = requests.get(url, headers)\n",
    "    if response.status_code == 200:\n",
    "        return response.text\n",
    "    return None\n",
    "\n",
    "def parse_one_page(html):\n",
    "    pattern = re.compile(\n",
    "        r'<span.*?title.*?>(.*?)</span>', re.S\n",
    "    )\n",
    "    items = re.findall(pattern, html)\n",
    "#     print(items)\n",
    "    for item in items:\n",
    "        print(item)\n",
    "\n",
    "def main():\n",
    "    url = \"https://movie.douban.com/top250\"\n",
    "    html = get_one_page(url)\n",
    "#     print(html)\n",
    "    parse_one_page(html)\n",
    "\n",
    "if __name__ == '__main__':\n",
    "    main()"
   ]
  },
  {
   "cell_type": "code",
   "execution_count": null,
   "metadata": {
    "collapsed": true
   },
   "outputs": [],
   "source": []
  }
 ],
 "metadata": {
  "kernelspec": {
   "display_name": "Python 3",
   "language": "python",
   "name": "python3"
  },
  "language_info": {
   "codemirror_mode": {
    "name": "ipython",
    "version": 3
   },
   "file_extension": ".py",
   "mimetype": "text/x-python",
   "name": "python",
   "nbconvert_exporter": "python",
   "pygments_lexer": "ipython3",
   "version": "3.6.1"
  }
 },
 "nbformat": 4,
 "nbformat_minor": 2
}
